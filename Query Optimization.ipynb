{
 "cells": [
  {
   "cell_type": "markdown",
   "id": "0af16302",
   "metadata": {},
   "source": [
    "# QUERY OPTIMIZATION\n",
    "###### 1)Logical Optimizations\n",
    "###### 2)Predicate Pushdown\n",
    "###### 3)No Predicate Pushdown\n",
    "\n",
    "Fundamental to SQL & Dataframe API is the **CATALYST OPTIMIZER**\n",
    "\n",
    "### CATALYST OPTIMIZER\n",
    "\n",
    "---Extensible query optimizer\n",
    "\n",
    "---Containing a general library for representing trees,Applying rules to manipulate them\n",
    "\n",
    "---Has several public extension points\n",
    "\n",
    "---Includes external data sources & user-defined type\n",
    "\n",
    "**THERE ARE VARIOUS RULE SETS WHICH CAN HANDLE DIFF. PHASES OF QUERY EXECUTION LIKE ANALYSIS, QUERY OPTIMIZATION, PHYSICAL PLANNING, & CODE GENERATION**"
   ]
  },
  {
   "cell_type": "markdown",
   "id": "7403af17",
   "metadata": {},
   "source": [
    "## Logical Optimization\n",
    "**explain(..) :** It prints the plans (Both Logical and Physical), Optionally formatted by a given sample of code\n",
    "\n"
   ]
  },
  {
   "cell_type": "code",
   "execution_count": null,
   "id": "32119d48",
   "metadata": {},
   "outputs": [],
   "source": []
  }
 ],
 "metadata": {
  "kernelspec": {
   "display_name": "Python 3 (ipykernel)",
   "language": "python",
   "name": "python3"
  },
  "language_info": {
   "codemirror_mode": {
    "name": "ipython",
    "version": 3
   },
   "file_extension": ".py",
   "mimetype": "text/x-python",
   "name": "python",
   "nbconvert_exporter": "python",
   "pygments_lexer": "ipython3",
   "version": "3.9.7"
  }
 },
 "nbformat": 4,
 "nbformat_minor": 5
}
