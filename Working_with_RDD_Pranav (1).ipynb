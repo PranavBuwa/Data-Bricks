{
  "nbformat": 4,
  "nbformat_minor": 0,
  "metadata": {
    "kernelspec": {
      "display_name": "Python 3",
      "language": "python",
      "name": "python3"
    },
    "language_info": {
      "codemirror_mode": {
        "name": "ipython",
        "version": 3
      },
      "file_extension": ".py",
      "mimetype": "text/x-python",
      "name": "python",
      "nbconvert_exporter": "python",
      "pygments_lexer": "ipython3",
      "version": "3.8.3"
    },
    "colab": {
      "name": "Working_with_RDD Pranav.ipynb",
      "provenance": [],
      "collapsed_sections": []
    }
  },
  "cells": [
    {
      "cell_type": "markdown",
      "metadata": {
        "id": "gjuAVgrxmIo3"
      },
      "source": [
        "# **Working with RDD (Resilient Distributed Dataset)**\n",
        "\n",
        "**`Udemy Course: Best Hands-on Big Data Practices and Use Cases using PySpark`**\n",
        "\n",
        "**`Author: Amin Karami (PhD, FHEA)`**\n",
        "\n",
        "---\n",
        "\n",
        "**Resilient Distributed Dataset (RDD)**: RDD is the fundamental data structure of Spark. It is fault-tolerant (resilient) and immutable distributed collections of any type of objects.\n",
        "\n",
        "source: https://spark.apache.org/docs/latest/rdd-programming-guide.html\n",
        "\n",
        "source: https://spark.apache.org/docs/latest/api/python/reference/"
      ]
    },
    {
      "cell_type": "code",
      "metadata": {
        "id": "0LWTJaC8mHL5",
        "colab": {
          "base_uri": "https://localhost:8080/"
        },
        "outputId": "a048e745-b7ec-4517-f4fc-f3350ef3f17b"
      },
      "source": [
        "########## ONLY in Colab ##########\n",
        "!pip3 install pyspark\n",
        "########## ONLY in Colab ##########"
      ],
      "execution_count": 15,
      "outputs": [
        {
          "output_type": "stream",
          "name": "stdout",
          "text": [
            "Looking in indexes: https://pypi.org/simple, https://us-python.pkg.dev/colab-wheels/public/simple/\n",
            "Requirement already satisfied: pyspark in /usr/local/lib/python3.7/dist-packages (3.3.0)\n",
            "Requirement already satisfied: py4j==0.10.9.5 in /usr/local/lib/python3.7/dist-packages (from pyspark) (0.10.9.5)\n"
          ]
        }
      ]
    },
    {
      "cell_type": "code",
      "source": [
        "########## ONLY in Ubuntu Machine ##########\n",
        "# Load Spark engine\n",
        "!pip3 install -q findspark\n",
        "import findspark\n",
        "findspark.init()\n",
        "########## ONLY in Ubuntu Machine ##########"
      ],
      "metadata": {
        "id": "K-riUQ6WTHDl"
      },
      "execution_count": 16,
      "outputs": []
    },
    {
      "cell_type": "code",
      "source": [
        "# Linking with Spark\n",
        "from pyspark import SparkContext, SparkConf"
      ],
      "metadata": {
        "id": "e3pTfRiwTMeY"
      },
      "execution_count": 5,
      "outputs": []
    },
    {
      "cell_type": "code",
      "source": [
        "# Initializing Spark\n",
        "conf = SparkConf().setAppName(\"RDD_practice\").setMaster(\"local[*]\")\n",
        "sc = SparkContext(conf=conf)\n",
        "print(sc)"
      ],
      "metadata": {
        "id": "A_ALGTfeTPN-",
        "colab": {
          "base_uri": "https://localhost:8080/"
        },
        "outputId": "41d367f5-9fc0-4ce7-e2c8-eca13df3918d"
      },
      "execution_count": 6,
      "outputs": [
        {
          "output_type": "stream",
          "name": "stdout",
          "text": [
            "<SparkContext master=local[*] appName=RDD_practice>\n"
          ]
        }
      ]
    },
    {
      "cell_type": "markdown",
      "source": [
        "# **Part 1: Create RDDs and Basic Operations**\n",
        "# **There are two ways to create RDDs:**\n",
        "\n",
        "1.   Parallelizing an existing collection in your driver program\n",
        "2.   Referencing a dataset in an external storage system, such as a shared filesystem, HDFS, HBase, or any data source offering a Hadoop InputFormat."
      ],
      "metadata": {
        "id": "quQ_GBpgWLRK"
      }
    },
    {
      "cell_type": "code",
      "source": [
        "# Generate random data:\n",
        "data=[]\n",
        "for i in range(1,101):\n",
        "  data.append(i)"
      ],
      "metadata": {
        "id": "ILkhrdMMTu9m"
      },
      "execution_count": 2,
      "outputs": []
    },
    {
      "cell_type": "code",
      "source": [
        "# Create RDD:\n",
        "rdd_data=sc.parallelize(data,10)\n",
        "rdd_data.getNumPartitions()"
      ],
      "metadata": {
        "id": "1n39Bv24XHjt",
        "colab": {
          "base_uri": "https://localhost:8080/"
        },
        "outputId": "8d4ee08a-4748-4c76-e049-5b5135eb578d"
      },
      "execution_count": 7,
      "outputs": [
        {
          "output_type": "execute_result",
          "data": {
            "text/plain": [
              "10"
            ]
          },
          "metadata": {},
          "execution_count": 7
        }
      ]
    },
    {
      "cell_type": "code",
      "source": [
        "datacoll=rdd_data.collect()"
      ],
      "metadata": {
        "id": "bfW6u1zgp7Qx"
      },
      "execution_count": 8,
      "outputs": []
    },
    {
      "cell_type": "code",
      "source": [
        "# Data distribution in partitions:\n",
        "rdd_data = rdd_data.repartition(5)\n",
        "rdd_data.getNumPartitions()"
      ],
      "metadata": {
        "id": "b8aOYoMLX7Er",
        "colab": {
          "base_uri": "https://localhost:8080/"
        },
        "outputId": "47dd200e-0bef-4efa-e90b-bfab3a52aafe"
      },
      "execution_count": 9,
      "outputs": [
        {
          "output_type": "execute_result",
          "data": {
            "text/plain": [
              "5"
            ]
          },
          "metadata": {},
          "execution_count": 9
        }
      ]
    },
    {
      "cell_type": "code",
      "source": [
        "rdd_data.glom().collect()"
      ],
      "metadata": {
        "colab": {
          "base_uri": "https://localhost:8080/"
        },
        "id": "PEttVYENY85R",
        "outputId": "62fc194c-b6b5-4a0b-9390-ac680b6279a5"
      },
      "execution_count": 10,
      "outputs": [
        {
          "output_type": "execute_result",
          "data": {
            "text/plain": [
              "[[61,\n",
              "  62,\n",
              "  63,\n",
              "  64,\n",
              "  65,\n",
              "  66,\n",
              "  67,\n",
              "  68,\n",
              "  69,\n",
              "  70,\n",
              "  81,\n",
              "  82,\n",
              "  83,\n",
              "  84,\n",
              "  85,\n",
              "  86,\n",
              "  87,\n",
              "  88,\n",
              "  89,\n",
              "  90],\n",
              " [1, 2, 3, 4, 5, 6, 7, 8, 9, 10, 91, 92, 93, 94, 95, 96, 97, 98, 99, 100],\n",
              " [21,\n",
              "  22,\n",
              "  23,\n",
              "  24,\n",
              "  25,\n",
              "  26,\n",
              "  27,\n",
              "  28,\n",
              "  29,\n",
              "  30,\n",
              "  31,\n",
              "  32,\n",
              "  33,\n",
              "  34,\n",
              "  35,\n",
              "  36,\n",
              "  37,\n",
              "  38,\n",
              "  39,\n",
              "  40,\n",
              "  71,\n",
              "  72,\n",
              "  73,\n",
              "  74,\n",
              "  75,\n",
              "  76,\n",
              "  77,\n",
              "  78,\n",
              "  79,\n",
              "  80],\n",
              " [11, 12, 13, 14, 15, 16, 17, 18, 19, 20],\n",
              " [41,\n",
              "  42,\n",
              "  43,\n",
              "  44,\n",
              "  45,\n",
              "  46,\n",
              "  47,\n",
              "  48,\n",
              "  49,\n",
              "  50,\n",
              "  51,\n",
              "  52,\n",
              "  53,\n",
              "  54,\n",
              "  55,\n",
              "  56,\n",
              "  57,\n",
              "  58,\n",
              "  59,\n",
              "  60]]"
            ]
          },
          "metadata": {},
          "execution_count": 10
        }
      ]
    },
    {
      "cell_type": "code",
      "source": [
        "# Print last partition\n",
        "rdd_data.glom().collect()[-1]"
      ],
      "metadata": {
        "id": "9EffFOyTYC18",
        "colab": {
          "base_uri": "https://localhost:8080/"
        },
        "outputId": "61ad8966-b0b5-46cd-cbe1-0a70f49b869b"
      },
      "execution_count": 11,
      "outputs": [
        {
          "output_type": "execute_result",
          "data": {
            "text/plain": [
              "[41,\n",
              " 42,\n",
              " 43,\n",
              " 44,\n",
              " 45,\n",
              " 46,\n",
              " 47,\n",
              " 48,\n",
              " 49,\n",
              " 50,\n",
              " 51,\n",
              " 52,\n",
              " 53,\n",
              " 54,\n",
              " 55,\n",
              " 56,\n",
              " 57,\n",
              " 58,\n",
              " 59,\n",
              " 60]"
            ]
          },
          "metadata": {},
          "execution_count": 11
        }
      ]
    },
    {
      "cell_type": "code",
      "source": [
        "# count():\n",
        "rdd_data.count()"
      ],
      "metadata": {
        "id": "9TL1kG-Ceo6E",
        "colab": {
          "base_uri": "https://localhost:8080/"
        },
        "outputId": "7d0bc408-bf74-4e6b-d04d-b20a617638e2"
      },
      "execution_count": 12,
      "outputs": [
        {
          "output_type": "execute_result",
          "data": {
            "text/plain": [
              "100"
            ]
          },
          "metadata": {},
          "execution_count": 12
        }
      ]
    },
    {
      "cell_type": "code",
      "source": [
        "# first():\n",
        "rdd_data.first()"
      ],
      "metadata": {
        "id": "gZmfAahXeryY",
        "colab": {
          "base_uri": "https://localhost:8080/"
        },
        "outputId": "3e3b8d71-4448-474f-a8b0-0b513de882c6"
      },
      "execution_count": 13,
      "outputs": [
        {
          "output_type": "execute_result",
          "data": {
            "text/plain": [
              "61"
            ]
          },
          "metadata": {},
          "execution_count": 13
        }
      ]
    },
    {
      "cell_type": "code",
      "source": [
        "# top():\n",
        "rdd_data.top(15)"
      ],
      "metadata": {
        "id": "OnuGXcKLb8qa",
        "colab": {
          "base_uri": "https://localhost:8080/"
        },
        "outputId": "51e47c56-f684-43f3-f3a4-cb11ef97c032"
      },
      "execution_count": 14,
      "outputs": [
        {
          "output_type": "execute_result",
          "data": {
            "text/plain": [
              "[100, 99, 98, 97, 96, 95, 94, 93, 92, 91, 90, 89, 88, 87, 86]"
            ]
          },
          "metadata": {},
          "execution_count": 14
        }
      ]
    },
    {
      "cell_type": "code",
      "source": [
        "# distinct():\n",
        "rdd_data.distinct().collect()"
      ],
      "metadata": {
        "id": "3xOj1w6teN_a",
        "colab": {
          "base_uri": "https://localhost:8080/"
        },
        "outputId": "4a352d8f-6419-4856-d1e9-488e872349dd"
      },
      "execution_count": 18,
      "outputs": [
        {
          "output_type": "execute_result",
          "data": {
            "text/plain": [
              "[65,\n",
              " 70,\n",
              " 85,\n",
              " 90,\n",
              " 5,\n",
              " 10,\n",
              " 95,\n",
              " 100,\n",
              " 25,\n",
              " 30,\n",
              " 35,\n",
              " 40,\n",
              " 75,\n",
              " 80,\n",
              " 15,\n",
              " 20,\n",
              " 45,\n",
              " 50,\n",
              " 55,\n",
              " 60,\n",
              " 61,\n",
              " 66,\n",
              " 81,\n",
              " 86,\n",
              " 1,\n",
              " 6,\n",
              " 91,\n",
              " 96,\n",
              " 21,\n",
              " 26,\n",
              " 31,\n",
              " 36,\n",
              " 71,\n",
              " 76,\n",
              " 11,\n",
              " 16,\n",
              " 41,\n",
              " 46,\n",
              " 51,\n",
              " 56,\n",
              " 62,\n",
              " 67,\n",
              " 82,\n",
              " 87,\n",
              " 2,\n",
              " 7,\n",
              " 92,\n",
              " 97,\n",
              " 22,\n",
              " 27,\n",
              " 32,\n",
              " 37,\n",
              " 72,\n",
              " 77,\n",
              " 12,\n",
              " 17,\n",
              " 42,\n",
              " 47,\n",
              " 52,\n",
              " 57,\n",
              " 63,\n",
              " 68,\n",
              " 83,\n",
              " 88,\n",
              " 3,\n",
              " 8,\n",
              " 93,\n",
              " 98,\n",
              " 23,\n",
              " 28,\n",
              " 33,\n",
              " 38,\n",
              " 73,\n",
              " 78,\n",
              " 13,\n",
              " 18,\n",
              " 43,\n",
              " 48,\n",
              " 53,\n",
              " 58,\n",
              " 64,\n",
              " 69,\n",
              " 84,\n",
              " 89,\n",
              " 4,\n",
              " 9,\n",
              " 94,\n",
              " 99,\n",
              " 24,\n",
              " 29,\n",
              " 34,\n",
              " 39,\n",
              " 74,\n",
              " 79,\n",
              " 14,\n",
              " 19,\n",
              " 44,\n",
              " 49,\n",
              " 54,\n",
              " 59]"
            ]
          },
          "metadata": {},
          "execution_count": 18
        }
      ]
    },
    {
      "cell_type": "code",
      "source": [
        "# map():\n",
        "my_rdd=rdd_data.map(lambda x:(x,1))\n",
        "my_rdd.collect()\n",
        "# for element in my_rdd.collect():\n",
        "#   print(element)"
      ],
      "metadata": {
        "id": "qE0CJuhlZz1M",
        "colab": {
          "base_uri": "https://localhost:8080/"
        },
        "outputId": "481cdf5a-11ec-4c91-87f4-a7416aa80e1a"
      },
      "execution_count": 21,
      "outputs": [
        {
          "output_type": "execute_result",
          "data": {
            "text/plain": [
              "[(61, 1),\n",
              " (62, 1),\n",
              " (63, 1),\n",
              " (64, 1),\n",
              " (65, 1),\n",
              " (66, 1),\n",
              " (67, 1),\n",
              " (68, 1),\n",
              " (69, 1),\n",
              " (70, 1),\n",
              " (81, 1),\n",
              " (82, 1),\n",
              " (83, 1),\n",
              " (84, 1),\n",
              " (85, 1),\n",
              " (86, 1),\n",
              " (87, 1),\n",
              " (88, 1),\n",
              " (89, 1),\n",
              " (90, 1),\n",
              " (1, 1),\n",
              " (2, 1),\n",
              " (3, 1),\n",
              " (4, 1),\n",
              " (5, 1),\n",
              " (6, 1),\n",
              " (7, 1),\n",
              " (8, 1),\n",
              " (9, 1),\n",
              " (10, 1),\n",
              " (91, 1),\n",
              " (92, 1),\n",
              " (93, 1),\n",
              " (94, 1),\n",
              " (95, 1),\n",
              " (96, 1),\n",
              " (97, 1),\n",
              " (98, 1),\n",
              " (99, 1),\n",
              " (100, 1),\n",
              " (21, 1),\n",
              " (22, 1),\n",
              " (23, 1),\n",
              " (24, 1),\n",
              " (25, 1),\n",
              " (26, 1),\n",
              " (27, 1),\n",
              " (28, 1),\n",
              " (29, 1),\n",
              " (30, 1),\n",
              " (31, 1),\n",
              " (32, 1),\n",
              " (33, 1),\n",
              " (34, 1),\n",
              " (35, 1),\n",
              " (36, 1),\n",
              " (37, 1),\n",
              " (38, 1),\n",
              " (39, 1),\n",
              " (40, 1),\n",
              " (71, 1),\n",
              " (72, 1),\n",
              " (73, 1),\n",
              " (74, 1),\n",
              " (75, 1),\n",
              " (76, 1),\n",
              " (77, 1),\n",
              " (78, 1),\n",
              " (79, 1),\n",
              " (80, 1),\n",
              " (11, 1),\n",
              " (12, 1),\n",
              " (13, 1),\n",
              " (14, 1),\n",
              " (15, 1),\n",
              " (16, 1),\n",
              " (17, 1),\n",
              " (18, 1),\n",
              " (19, 1),\n",
              " (20, 1),\n",
              " (41, 1),\n",
              " (42, 1),\n",
              " (43, 1),\n",
              " (44, 1),\n",
              " (45, 1),\n",
              " (46, 1),\n",
              " (47, 1),\n",
              " (48, 1),\n",
              " (49, 1),\n",
              " (50, 1),\n",
              " (51, 1),\n",
              " (52, 1),\n",
              " (53, 1),\n",
              " (54, 1),\n",
              " (55, 1),\n",
              " (56, 1),\n",
              " (57, 1),\n",
              " (58, 1),\n",
              " (59, 1),\n",
              " (60, 1)]"
            ]
          },
          "metadata": {},
          "execution_count": 21
        }
      ]
    },
    {
      "cell_type": "code",
      "source": [
        "#filter()\n",
        "my_rdd1 = rdd_data.filter(lambda x:(x,1))\n",
        "print(my_rdd1.collect())"
      ],
      "metadata": {
        "id": "r804677wamjY",
        "colab": {
          "base_uri": "https://localhost:8080/"
        },
        "outputId": "092ed875-a664-4166-c8cb-a8c2f8a33b25"
      },
      "execution_count": 22,
      "outputs": [
        {
          "output_type": "stream",
          "name": "stdout",
          "text": [
            "[61, 62, 63, 64, 65, 66, 67, 68, 69, 70, 81, 82, 83, 84, 85, 86, 87, 88, 89, 90, 1, 2, 3, 4, 5, 6, 7, 8, 9, 10, 91, 92, 93, 94, 95, 96, 97, 98, 99, 100, 21, 22, 23, 24, 25, 26, 27, 28, 29, 30, 31, 32, 33, 34, 35, 36, 37, 38, 39, 40, 71, 72, 73, 74, 75, 76, 77, 78, 79, 80, 11, 12, 13, 14, 15, 16, 17, 18, 19, 20, 41, 42, 43, 44, 45, 46, 47, 48, 49, 50, 51, 52, 53, 54, 55, 56, 57, 58, 59, 60]\n"
          ]
        }
      ]
    },
    {
      "cell_type": "code",
      "source": [
        "# flatMap():\n",
        "my_rdd2 = rdd_data.flatMap(lambda x:[[x,x+1,x+2]])\n",
        "# my_rdd2.collect()"
      ],
      "metadata": {
        "id": "9f--VFpvaqRj"
      },
      "execution_count": 23,
      "outputs": []
    },
    {
      "cell_type": "code",
      "source": [
        "# Descriptive statistics:\n",
        "rdd_data.stats()"
      ],
      "metadata": {
        "id": "1LSPGU35gk-q",
        "colab": {
          "base_uri": "https://localhost:8080/"
        },
        "outputId": "2b3f2489-ab23-4c03-a2e1-0205b20963d3"
      },
      "execution_count": 25,
      "outputs": [
        {
          "output_type": "execute_result",
          "data": {
            "text/plain": [
              "(count: 100, mean: 50.5, stdev: 28.86607004772212, max: 100.0, min: 1.0)"
            ]
          },
          "metadata": {},
          "execution_count": 25
        }
      ]
    },
    {
      "cell_type": "code",
      "source": [
        "# mapPartitions():\n"
      ],
      "metadata": {
        "id": "PEKBDcW1bvZe"
      },
      "execution_count": null,
      "outputs": []
    },
    {
      "cell_type": "markdown",
      "source": [
        "# **Part 2: Advanced RDD Transformations and Actions**"
      ],
      "metadata": {
        "id": "EGi2zdncaoHo"
      }
    },
    {
      "cell_type": "code",
      "source": [
        "# union():\n",
        "data1 = rdd_data.union(rdd_data)"
      ],
      "metadata": {
        "id": "bIKu4KMrdt1k"
      },
      "execution_count": 26,
      "outputs": []
    },
    {
      "cell_type": "code",
      "source": [
        "# intersection():\n",
        "rdd_data.intersection(rdd_data).collect()"
      ],
      "metadata": {
        "id": "DmQ3bNUkeMVk",
        "colab": {
          "base_uri": "https://localhost:8080/"
        },
        "outputId": "846a264f-acc4-4482-9da6-875bcc161fbb"
      },
      "execution_count": 28,
      "outputs": [
        {
          "output_type": "execute_result",
          "data": {
            "text/plain": [
              "[70,\n",
              " 90,\n",
              " 10,\n",
              " 100,\n",
              " 30,\n",
              " 40,\n",
              " 80,\n",
              " 20,\n",
              " 50,\n",
              " 60,\n",
              " 61,\n",
              " 81,\n",
              " 1,\n",
              " 91,\n",
              " 21,\n",
              " 31,\n",
              " 71,\n",
              " 11,\n",
              " 41,\n",
              " 51,\n",
              " 62,\n",
              " 82,\n",
              " 2,\n",
              " 92,\n",
              " 22,\n",
              " 32,\n",
              " 72,\n",
              " 12,\n",
              " 42,\n",
              " 52,\n",
              " 63,\n",
              " 83,\n",
              " 3,\n",
              " 93,\n",
              " 23,\n",
              " 33,\n",
              " 73,\n",
              " 13,\n",
              " 43,\n",
              " 53,\n",
              " 64,\n",
              " 84,\n",
              " 4,\n",
              " 94,\n",
              " 24,\n",
              " 34,\n",
              " 74,\n",
              " 14,\n",
              " 44,\n",
              " 54,\n",
              " 65,\n",
              " 85,\n",
              " 5,\n",
              " 95,\n",
              " 25,\n",
              " 35,\n",
              " 75,\n",
              " 15,\n",
              " 45,\n",
              " 55,\n",
              " 66,\n",
              " 86,\n",
              " 6,\n",
              " 96,\n",
              " 26,\n",
              " 36,\n",
              " 76,\n",
              " 16,\n",
              " 46,\n",
              " 56,\n",
              " 67,\n",
              " 87,\n",
              " 7,\n",
              " 97,\n",
              " 27,\n",
              " 37,\n",
              " 77,\n",
              " 17,\n",
              " 47,\n",
              " 57,\n",
              " 68,\n",
              " 88,\n",
              " 8,\n",
              " 98,\n",
              " 28,\n",
              " 38,\n",
              " 78,\n",
              " 18,\n",
              " 48,\n",
              " 58,\n",
              " 69,\n",
              " 89,\n",
              " 9,\n",
              " 99,\n",
              " 29,\n",
              " 39,\n",
              " 79,\n",
              " 19,\n",
              " 49,\n",
              " 59]"
            ]
          },
          "metadata": {},
          "execution_count": 28
        }
      ]
    },
    {
      "cell_type": "code",
      "source": [
        "# Find empty partitions\n",
        "empty = 0\n",
        "# def f(rdd_data):\n",
        "for x in rdd_data.glom().collect():\n",
        "  if len(x)==0:\n",
        "    empty +=1\n",
        "print(empty)\n",
        "# rdd_data.foreachPartition(f)"
      ],
      "metadata": {
        "id": "E2g0ep9M8GX8",
        "colab": {
          "base_uri": "https://localhost:8080/"
        },
        "outputId": "595cddcd-20fa-49ba-dbd2-1ef61b1643b1"
      },
      "execution_count": 41,
      "outputs": [
        {
          "output_type": "stream",
          "name": "stdout",
          "text": [
            "0\n"
          ]
        }
      ]
    },
    {
      "cell_type": "code",
      "source": [
        "rdd_data.glom().collect()"
      ],
      "metadata": {
        "colab": {
          "base_uri": "https://localhost:8080/"
        },
        "id": "ruBq2G_QApGw",
        "outputId": "a9be880e-e7f4-4b10-da72-02fdb3f3a1d9"
      },
      "execution_count": 32,
      "outputs": [
        {
          "output_type": "execute_result",
          "data": {
            "text/plain": [
              "[[61,\n",
              "  62,\n",
              "  63,\n",
              "  64,\n",
              "  65,\n",
              "  66,\n",
              "  67,\n",
              "  68,\n",
              "  69,\n",
              "  70,\n",
              "  81,\n",
              "  82,\n",
              "  83,\n",
              "  84,\n",
              "  85,\n",
              "  86,\n",
              "  87,\n",
              "  88,\n",
              "  89,\n",
              "  90],\n",
              " [1, 2, 3, 4, 5, 6, 7, 8, 9, 10, 91, 92, 93, 94, 95, 96, 97, 98, 99, 100],\n",
              " [21,\n",
              "  22,\n",
              "  23,\n",
              "  24,\n",
              "  25,\n",
              "  26,\n",
              "  27,\n",
              "  28,\n",
              "  29,\n",
              "  30,\n",
              "  31,\n",
              "  32,\n",
              "  33,\n",
              "  34,\n",
              "  35,\n",
              "  36,\n",
              "  37,\n",
              "  38,\n",
              "  39,\n",
              "  40,\n",
              "  71,\n",
              "  72,\n",
              "  73,\n",
              "  74,\n",
              "  75,\n",
              "  76,\n",
              "  77,\n",
              "  78,\n",
              "  79,\n",
              "  80],\n",
              " [11, 12, 13, 14, 15, 16, 17, 18, 19, 20],\n",
              " [41,\n",
              "  42,\n",
              "  43,\n",
              "  44,\n",
              "  45,\n",
              "  46,\n",
              "  47,\n",
              "  48,\n",
              "  49,\n",
              "  50,\n",
              "  51,\n",
              "  52,\n",
              "  53,\n",
              "  54,\n",
              "  55,\n",
              "  56,\n",
              "  57,\n",
              "  58,\n",
              "  59,\n",
              "  60]]"
            ]
          },
          "metadata": {},
          "execution_count": 32
        }
      ]
    },
    {
      "cell_type": "code",
      "source": [
        "# coalesce(numPartitions):\n",
        "rdd_data.coalesce(2)"
      ],
      "metadata": {
        "id": "-AopsaZqehmA",
        "colab": {
          "base_uri": "https://localhost:8080/"
        },
        "outputId": "c46aff6d-50bf-44b1-e1bb-6e614b1d6fd4"
      },
      "execution_count": 44,
      "outputs": [
        {
          "output_type": "execute_result",
          "data": {
            "text/plain": [
              "CoalescedRDD[52] at coalesce at NativeMethodAccessorImpl.java:0"
            ]
          },
          "metadata": {},
          "execution_count": 44
        }
      ]
    },
    {
      "cell_type": "code",
      "source": [
        "# takeSample(withReplacement, num, [seed])\n",
        "rdd_data.takeSample(True,10,12)"
      ],
      "metadata": {
        "id": "OFjDbelJeuoq",
        "colab": {
          "base_uri": "https://localhost:8080/"
        },
        "outputId": "cf3cf1b0-fc86-46d2-d5e6-8e0919088465"
      },
      "execution_count": 45,
      "outputs": [
        {
          "output_type": "execute_result",
          "data": {
            "text/plain": [
              "[72, 92, 85, 35, 16, 3, 39, 5, 67, 48]"
            ]
          },
          "metadata": {},
          "execution_count": 45
        }
      ]
    },
    {
      "cell_type": "code",
      "source": [
        "# takeOrdered(n, [ordering])\n",
        "rdd_data.takeOrdered(6,lambda x:-x)"
      ],
      "metadata": {
        "id": "_K41G_W9ezhS",
        "colab": {
          "base_uri": "https://localhost:8080/"
        },
        "outputId": "71f34ef4-3c73-4a82-8992-15cb62be3d63"
      },
      "execution_count": 46,
      "outputs": [
        {
          "output_type": "execute_result",
          "data": {
            "text/plain": [
              "[100, 99, 98, 97, 96, 95]"
            ]
          },
          "metadata": {},
          "execution_count": 46
        }
      ]
    },
    {
      "cell_type": "code",
      "source": [
        "# reduce():\n",
        "rdd_data.reduce(lambda x,y:x+y)"
      ],
      "metadata": {
        "id": "sgBhaTdAeldY",
        "colab": {
          "base_uri": "https://localhost:8080/"
        },
        "outputId": "6de62a62-5eed-4419-c06e-bf58f0a436f8"
      },
      "execution_count": 47,
      "outputs": [
        {
          "output_type": "execute_result",
          "data": {
            "text/plain": [
              "5050"
            ]
          },
          "metadata": {},
          "execution_count": 47
        }
      ]
    },
    {
      "cell_type": "code",
      "source": [
        "new = sc.parallelize([(\"a\", 1), (\"b\", 2), (\"a\", 1)])"
      ],
      "metadata": {
        "id": "kcm8kPppFH9R"
      },
      "execution_count": 48,
      "outputs": []
    },
    {
      "cell_type": "code",
      "source": [
        "# reduceByKey():\n",
        "new20=new.reduceByKey(lambda x,y:x+y)\n",
        "new20.collect()"
      ],
      "metadata": {
        "id": "aj8-Q40_eXT2",
        "colab": {
          "base_uri": "https://localhost:8080/"
        },
        "outputId": "b8ca1d24-3cf8-4c80-8aad-c7ed1769481a"
      },
      "execution_count": 52,
      "outputs": [
        {
          "output_type": "execute_result",
          "data": {
            "text/plain": [
              "[('b', 2), ('a', 2)]"
            ]
          },
          "metadata": {},
          "execution_count": 52
        }
      ]
    },
    {
      "cell_type": "code",
      "source": [
        "# sortByKey():#Gives error if data doesnt have the format of Key,Value pairs\n",
        "sorted_rdd=new.sortByKey()\n",
        "sorted_rdd.collect()"
      ],
      "metadata": {
        "id": "Ii8M3qNMeaHC",
        "colab": {
          "base_uri": "https://localhost:8080/"
        },
        "outputId": "2da94c5b-2ae0-405e-8d5e-06886e0ae597"
      },
      "execution_count": 53,
      "outputs": [
        {
          "output_type": "execute_result",
          "data": {
            "text/plain": [
              "[('a', 1), ('a', 1), ('b', 2)]"
            ]
          },
          "metadata": {},
          "execution_count": 53
        }
      ]
    },
    {
      "cell_type": "code",
      "source": [
        "# countByKey()\n",
        "count_rdd=new.countByKey()\n",
        "count_rdd"
      ],
      "metadata": {
        "id": "2-WYDKd2e0qf",
        "colab": {
          "base_uri": "https://localhost:8080/"
        },
        "outputId": "2229752c-8182-4676-abb8-3cac2a0958cd"
      },
      "execution_count": 54,
      "outputs": [
        {
          "output_type": "execute_result",
          "data": {
            "text/plain": [
              "defaultdict(int, {'a': 2, 'b': 1})"
            ]
          },
          "metadata": {},
          "execution_count": 54
        }
      ]
    },
    {
      "cell_type": "code",
      "source": [
        "# groupByKey():\n",
        "group_rdd=new.groupByKey()\n",
        "group_rdd.collect()"
      ],
      "metadata": {
        "id": "bihcXC8DeUEv",
        "colab": {
          "base_uri": "https://localhost:8080/"
        },
        "outputId": "80ce5ebb-7f65-4578-a422-96404becf547"
      },
      "execution_count": 55,
      "outputs": [
        {
          "output_type": "execute_result",
          "data": {
            "text/plain": [
              "[('b', <pyspark.resultiterable.ResultIterable at 0x7f126cd58150>),\n",
              " ('a', <pyspark.resultiterable.ResultIterable at 0x7f126cd58650>)]"
            ]
          },
          "metadata": {},
          "execution_count": 55
        }
      ]
    },
    {
      "cell_type": "code",
      "source": [
        "# lookup(key):\n",
        "new.lookup(\"b\")"
      ],
      "metadata": {
        "id": "5NzYUXEJhDM9",
        "colab": {
          "base_uri": "https://localhost:8080/"
        },
        "outputId": "1f35b8ad-87bf-4e0e-8516-fff41d1ed293"
      },
      "execution_count": 56,
      "outputs": [
        {
          "output_type": "execute_result",
          "data": {
            "text/plain": [
              "[2]"
            ]
          },
          "metadata": {},
          "execution_count": 56
        }
      ]
    },
    {
      "cell_type": "code",
      "source": [
        "# cache:\n",
        "# By default, each transformed RDD may be recomputed each time you run an action on it.\n",
        "# However, you may also persist an RDD in memory using the persist (or cache) method,\n",
        "# in which case Spark will keep the elements around on the cluster for much faster access the next time you query it.\n",
        "rdd_data.cache()"
      ],
      "metadata": {
        "id": "g9ThlLGO6z7u",
        "colab": {
          "base_uri": "https://localhost:8080/"
        },
        "outputId": "3848a473-5849-4383-9fec-b5c32e20dc77"
      },
      "execution_count": 57,
      "outputs": [
        {
          "output_type": "execute_result",
          "data": {
            "text/plain": [
              "MapPartitionsRDD[4] at coalesce at NativeMethodAccessorImpl.java:0"
            ]
          },
          "metadata": {},
          "execution_count": 57
        }
      ]
    },
    {
      "cell_type": "code",
      "source": [
        "# Persistence (https://spark.apache.org/docs/latest/rdd-programming-guide.html#rdd-persistence)\n",
        "caching = rdd_data.persist().is_cached\n",
        "caching"
      ],
      "metadata": {
        "id": "5zYpm9hpiqPc",
        "colab": {
          "base_uri": "https://localhost:8080/"
        },
        "outputId": "01bf33e8-bca9-4474-9337-8606d10acc13"
      },
      "execution_count": 58,
      "outputs": [
        {
          "output_type": "execute_result",
          "data": {
            "text/plain": [
              "True"
            ]
          },
          "metadata": {},
          "execution_count": 58
        }
      ]
    },
    {
      "cell_type": "code",
      "source": [
        ""
      ],
      "metadata": {
        "id": "qX9MXeXcH_qi"
      },
      "execution_count": null,
      "outputs": []
    }
  ]
}